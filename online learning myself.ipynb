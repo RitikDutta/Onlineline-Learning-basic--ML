{
 "cells": [
  {
   "cell_type": "code",
   "execution_count": 29,
   "metadata": {},
   "outputs": [],
   "source": [
    "import numpy as np\n",
    "from matplotlib import pyplot as plt\n",
    "%matplotlib inline\n",
    "class OnlineLearn():\n",
    "    from sklearn.linear_model import LinearRegression\n",
    "    regg = LinearRegression()\n",
    "    def onlineLearn(self):\n",
    "        num_array = list()\n",
    "        num = input(\"Enter how many elements you want:\")\n",
    "        print ('Enter numbers in array: ')\n",
    "        for i in range(int(num)):\n",
    "            n = input(\"num :\")\n",
    "            num_array.append(int(n))\n",
    "        y = np.array(num_array).reshape(-1,1)\n",
    "        X = np.array(np.arange(1,len(y)+1)).reshape(-1, 1)\n",
    "        self.regg.fit(X, y)\n",
    "        nextOutput = self.regg.predict(len(y)+1)\n",
    "        print(\"Your next value will be\", round(nextOutput[0,0]))\n",
    "        #plt.bar(plt.bar([1,2,3,4,5,6,7,8,9],num_array))\n",
    "        plt.plot(X, y, color = 'red')\n",
    "        plt.scatter(len(y)+1, round(nextOutput[0,0]))\n",
    "onn = OnlineLearn()"
   ]
  },
  {
   "cell_type": "code",
   "execution_count": 34,
   "metadata": {
    "scrolled": true
   },
   "outputs": [
    {
     "name": "stdout",
     "output_type": "stream",
     "text": [
      "Enter how many elements you want:10\n",
      "Enter numbers in array: \n",
      "num :5\n",
      "num :6\n",
      "num :8\n",
      "num :8\n",
      "num :7\n",
      "num :4\n",
      "num :2\n",
      "num :3\n",
      "num :9\n",
      "num :1\n",
      "Your next value will be 3.0\n"
     ]
    },
    {
     "data": {
      "image/png": "[encoded data removed]",
      "text/plain": [
       "<matplotlib.figure.Figure at 0x1f09557d128>"
      ]
     },
     "metadata": {},
     "output_type": "display_data"
    }
   ],
   "source": [
    "onn.onlineLearn()"
   ]
  },
  {
   "cell_type": "code",
   "execution_count": null,
   "metadata": {},
   "outputs": [],
   "source": []
  },
  {
   "cell_type": "code",
   "execution_count": null,
   "metadata": {
    "collapsed": true
   },
   "outputs": [],
   "source": []
  }
 ],
 "metadata": {
  "kernelspec": {
   "display_name": "Python 3",
   "language": "python",
   "name": "python3"
  },
  "language_info": {
   "codemirror_mode": {
    "name": "ipython",
    "version": 3
   },
   "file_extension": ".py",
   "mimetype": "text/x-python",
   "name": "python",
   "nbconvert_exporter": "python",
   "pygments_lexer": "ipython3",
   "version": "3.6.3"
  }
 },
 "nbformat": 4,
 "nbformat_minor": 2
}
